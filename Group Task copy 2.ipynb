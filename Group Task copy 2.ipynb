
class Agent:
    # this class is used to define the different agents

    def __init__(self, agentID):
        # self.qtable = None            To be filled out later
        self.agentID = agentID
    
    def getLegalMoves(self, gamestate):
        legalMoves = ["P", "D", "N", "S", "E", "W"]
        positions = gamestate[0:6]

        ipositions = [positions[0], positions[2], positions[4]]
        agentI = ipositions.pop(self.agentID)

        jpositions = [positions[1], positions[3],  positions[5]]
        agentJ = jpositions.pop(self.agentID)

        otherAgentPositions = [[ipositions[0], jpositions[0]], [ipositions[1], jpositions[1]]]

        agentBox = gamestate[self.agentID+6]

        dropoff = gamestate[9:12]
        dropoffPositions = [[1,1], [3,1], [4,5]]

        pickup = gamestate[12:]
        pickupPositions = [[1,5], [2,4], [5,2]]

        if(agentBox == 0):
            legalMoves.remove("D")
            if([agentI, agentJ] not in pickupPositions):
                legalMoves.remove("P")
            else:
                index = 0
                for location in pickupPositions:
                    if ([agentI, agentJ] == location and pickup[index] == 0):
                        legalMoves.remove("P")
                    index += 1
        else:
            legalMoves.remove("P")
            if([agentI, agentJ] not in dropoffPositions):
                legalMoves.remove("D")
            else:
                index = 0
                for location in dropoffPositions:
                    if ([agentI, agentJ] == location and dropoff[index] == 5):
                        legalMoves.remove("D")
                    index += 1

        if([agentI-1, agentJ] in otherAgentPositions or agentI-1 == 0):
            legalMoves.remove("N")
        if([agentI+1, agentJ] in otherAgentPositions or agentI+1 == 6):
            legalMoves.remove("S")
        if([agentI, agentJ-1] in otherAgentPositions or agentJ-1 == 0):
            legalMoves.remove("W")   
        if([agentI, agentJ+1] in otherAgentPositions or agentJ+1 == 6):
            legalMoves.remove("E")   

        return legalMoves

    def updateGameState(self, gamestate, nextMove):
        agentI = gamestate[self.agentID*2]
        agentJ = gamestate[self.agentID*2+1]

        dropoffPositions = [[1,1], [3,1], [4,5]]
        pickupPositions = [[1,5], [2,4], [5,2]]

        if(nextMove == "D"):
            index = 0
            for location in dropoffPositions:
                if([agentI, agentJ] == location):
                    gamestate[9 + index] = gamestate[9 + index] + 1
                index += 1
            gamestate[6+self.agentID] = 0

        if(nextMove == "P"):
            index = 0
            for location in pickupPositions:
                if([agentI, agentJ] == location):
                    gamestate[12 + index] = gamestate[12 + index] - 1
                index += 1
            gamestate[6+self.agentID] = 1

        if(nextMove == "N"):
            gamestate[self.agentID*2] = agentI-1
        if(nextMove == "S"):
            gamestate[self.agentID*2] = agentI+1
        if(nextMove == "W"):
            gamestate[self.agentID*2+1] = agentI-1
        if(nextMove == "E"):
            gamestate[self.agentID*2+1] = agentI+1

        return gamestate
    
    def step(self, gamestate):
        legalmoves = self.getLegalMoves(gamestate)
        nextMove = None                                   # will be changed when Q Table is implemented
        # updateQTable(nextMove)
        newGameState = self.updateGameState(gamestate, nextMove)
        return newGameState
        
redAgent = Agent(0)
blueAgent = Agent(1)
blackAgent = Agent(2)

initialEnvironment = [3,3,5,3,1,3,0,0,0,0,0,0,5,5,5]
